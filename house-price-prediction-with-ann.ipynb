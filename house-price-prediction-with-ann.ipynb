{
 "cells": [
  {
   "cell_type": "code",
   "execution_count": 1,
   "metadata": {
    "_cell_guid": "b1076dfc-b9ad-4769-8c92-a6c4dae69d19",
    "_uuid": "8f2839f25d086af736a60e9eeb907d3b93b6e0e5",
    "execution": {
     "iopub.execute_input": "2020-10-29T15:31:26.276645Z",
     "iopub.status.busy": "2020-10-29T15:31:26.275557Z",
     "iopub.status.idle": "2020-10-29T15:31:26.281707Z",
     "shell.execute_reply": "2020-10-29T15:31:26.282441Z"
    },
    "papermill": {
     "duration": 0.029237,
     "end_time": "2020-10-29T15:31:26.282641",
     "exception": false,
     "start_time": "2020-10-29T15:31:26.253404",
     "status": "completed"
    },
    "tags": []
   },
   "outputs": [
    {
     "name": "stdout",
     "output_type": "stream",
     "text": [
      "/kaggle/input/house-prices-advanced-regression-techniques/sample_submission.csv\n",
      "/kaggle/input/house-prices-advanced-regression-techniques/data_description.txt\n",
      "/kaggle/input/house-prices-advanced-regression-techniques/test.csv\n",
      "/kaggle/input/house-prices-advanced-regression-techniques/train.csv\n"
     ]
    }
   ],
   "source": [
    "import numpy as np # linear algebra\n",
    "import pandas as pd # data processing, CSV file I/O (e.g. pd.read_csv)\n",
    "\n",
    "\n",
    "import os\n",
    "for dirname, _, filenames in os.walk('/kaggle/input'):\n",
    "    for filename in filenames:\n",
    "        print(os.path.join(dirname, filename))\n"
   ]
  },
  {
   "cell_type": "code",
   "execution_count": 2,
   "metadata": {
    "execution": {
     "iopub.execute_input": "2020-10-29T15:31:26.317675Z",
     "iopub.status.busy": "2020-10-29T15:31:26.316989Z",
     "iopub.status.idle": "2020-10-29T15:31:26.383968Z",
     "shell.execute_reply": "2020-10-29T15:31:26.382768Z"
    },
    "papermill": {
     "duration": 0.086338,
     "end_time": "2020-10-29T15:31:26.384091",
     "exception": false,
     "start_time": "2020-10-29T15:31:26.297753",
     "status": "completed"
    },
    "tags": []
   },
   "outputs": [],
   "source": [
    "train_data = pd.read_csv('/kaggle/input/house-prices-advanced-regression-techniques/train.csv')\n",
    "test_data = pd.read_csv('/kaggle/input/house-prices-advanced-regression-techniques/test.csv')"
   ]
  },
  {
   "cell_type": "code",
   "execution_count": 3,
   "metadata": {
    "execution": {
     "iopub.execute_input": "2020-10-29T15:31:26.444474Z",
     "iopub.status.busy": "2020-10-29T15:31:26.431563Z",
     "iopub.status.idle": "2020-10-29T15:31:26.462651Z",
     "shell.execute_reply": "2020-10-29T15:31:26.463303Z"
    },
    "papermill": {
     "duration": 0.065083,
     "end_time": "2020-10-29T15:31:26.463460",
     "exception": false,
     "start_time": "2020-10-29T15:31:26.398377",
     "status": "completed"
    },
    "tags": []
   },
   "outputs": [
    {
     "data": {
      "text/html": [
       "<div>\n",
       "<style scoped>\n",
       "    .dataframe tbody tr th:only-of-type {\n",
       "        vertical-align: middle;\n",
       "    }\n",
       "\n",
       "    .dataframe tbody tr th {\n",
       "        vertical-align: top;\n",
       "    }\n",
       "\n",
       "    .dataframe thead th {\n",
       "        text-align: right;\n",
       "    }\n",
       "</style>\n",
       "<table border=\"1\" class=\"dataframe\">\n",
       "  <thead>\n",
       "    <tr style=\"text-align: right;\">\n",
       "      <th></th>\n",
       "      <th>Id</th>\n",
       "      <th>MSSubClass</th>\n",
       "      <th>MSZoning</th>\n",
       "      <th>LotFrontage</th>\n",
       "      <th>LotArea</th>\n",
       "      <th>Street</th>\n",
       "      <th>Alley</th>\n",
       "      <th>LotShape</th>\n",
       "      <th>LandContour</th>\n",
       "      <th>Utilities</th>\n",
       "      <th>...</th>\n",
       "      <th>PoolArea</th>\n",
       "      <th>PoolQC</th>\n",
       "      <th>Fence</th>\n",
       "      <th>MiscFeature</th>\n",
       "      <th>MiscVal</th>\n",
       "      <th>MoSold</th>\n",
       "      <th>YrSold</th>\n",
       "      <th>SaleType</th>\n",
       "      <th>SaleCondition</th>\n",
       "      <th>SalePrice</th>\n",
       "    </tr>\n",
       "  </thead>\n",
       "  <tbody>\n",
       "    <tr>\n",
       "      <th>0</th>\n",
       "      <td>1</td>\n",
       "      <td>60</td>\n",
       "      <td>RL</td>\n",
       "      <td>65.0</td>\n",
       "      <td>8450</td>\n",
       "      <td>Pave</td>\n",
       "      <td>NaN</td>\n",
       "      <td>Reg</td>\n",
       "      <td>Lvl</td>\n",
       "      <td>AllPub</td>\n",
       "      <td>...</td>\n",
       "      <td>0</td>\n",
       "      <td>NaN</td>\n",
       "      <td>NaN</td>\n",
       "      <td>NaN</td>\n",
       "      <td>0</td>\n",
       "      <td>2</td>\n",
       "      <td>2008</td>\n",
       "      <td>WD</td>\n",
       "      <td>Normal</td>\n",
       "      <td>208500</td>\n",
       "    </tr>\n",
       "    <tr>\n",
       "      <th>1</th>\n",
       "      <td>2</td>\n",
       "      <td>20</td>\n",
       "      <td>RL</td>\n",
       "      <td>80.0</td>\n",
       "      <td>9600</td>\n",
       "      <td>Pave</td>\n",
       "      <td>NaN</td>\n",
       "      <td>Reg</td>\n",
       "      <td>Lvl</td>\n",
       "      <td>AllPub</td>\n",
       "      <td>...</td>\n",
       "      <td>0</td>\n",
       "      <td>NaN</td>\n",
       "      <td>NaN</td>\n",
       "      <td>NaN</td>\n",
       "      <td>0</td>\n",
       "      <td>5</td>\n",
       "      <td>2007</td>\n",
       "      <td>WD</td>\n",
       "      <td>Normal</td>\n",
       "      <td>181500</td>\n",
       "    </tr>\n",
       "    <tr>\n",
       "      <th>2</th>\n",
       "      <td>3</td>\n",
       "      <td>60</td>\n",
       "      <td>RL</td>\n",
       "      <td>68.0</td>\n",
       "      <td>11250</td>\n",
       "      <td>Pave</td>\n",
       "      <td>NaN</td>\n",
       "      <td>IR1</td>\n",
       "      <td>Lvl</td>\n",
       "      <td>AllPub</td>\n",
       "      <td>...</td>\n",
       "      <td>0</td>\n",
       "      <td>NaN</td>\n",
       "      <td>NaN</td>\n",
       "      <td>NaN</td>\n",
       "      <td>0</td>\n",
       "      <td>9</td>\n",
       "      <td>2008</td>\n",
       "      <td>WD</td>\n",
       "      <td>Normal</td>\n",
       "      <td>223500</td>\n",
       "    </tr>\n",
       "    <tr>\n",
       "      <th>3</th>\n",
       "      <td>4</td>\n",
       "      <td>70</td>\n",
       "      <td>RL</td>\n",
       "      <td>60.0</td>\n",
       "      <td>9550</td>\n",
       "      <td>Pave</td>\n",
       "      <td>NaN</td>\n",
       "      <td>IR1</td>\n",
       "      <td>Lvl</td>\n",
       "      <td>AllPub</td>\n",
       "      <td>...</td>\n",
       "      <td>0</td>\n",
       "      <td>NaN</td>\n",
       "      <td>NaN</td>\n",
       "      <td>NaN</td>\n",
       "      <td>0</td>\n",
       "      <td>2</td>\n",
       "      <td>2006</td>\n",
       "      <td>WD</td>\n",
       "      <td>Abnorml</td>\n",
       "      <td>140000</td>\n",
       "    </tr>\n",
       "    <tr>\n",
       "      <th>4</th>\n",
       "      <td>5</td>\n",
       "      <td>60</td>\n",
       "      <td>RL</td>\n",
       "      <td>84.0</td>\n",
       "      <td>14260</td>\n",
       "      <td>Pave</td>\n",
       "      <td>NaN</td>\n",
       "      <td>IR1</td>\n",
       "      <td>Lvl</td>\n",
       "      <td>AllPub</td>\n",
       "      <td>...</td>\n",
       "      <td>0</td>\n",
       "      <td>NaN</td>\n",
       "      <td>NaN</td>\n",
       "      <td>NaN</td>\n",
       "      <td>0</td>\n",
       "      <td>12</td>\n",
       "      <td>2008</td>\n",
       "      <td>WD</td>\n",
       "      <td>Normal</td>\n",
       "      <td>250000</td>\n",
       "    </tr>\n",
       "  </tbody>\n",
       "</table>\n",
       "<p>5 rows × 81 columns</p>\n",
       "</div>"
      ],
      "text/plain": [
       "   Id  MSSubClass MSZoning  LotFrontage  LotArea Street Alley LotShape  \\\n",
       "0   1          60       RL         65.0     8450   Pave   NaN      Reg   \n",
       "1   2          20       RL         80.0     9600   Pave   NaN      Reg   \n",
       "2   3          60       RL         68.0    11250   Pave   NaN      IR1   \n",
       "3   4          70       RL         60.0     9550   Pave   NaN      IR1   \n",
       "4   5          60       RL         84.0    14260   Pave   NaN      IR1   \n",
       "\n",
       "  LandContour Utilities  ... PoolArea PoolQC Fence MiscFeature MiscVal MoSold  \\\n",
       "0         Lvl    AllPub  ...        0    NaN   NaN         NaN       0      2   \n",
       "1         Lvl    AllPub  ...        0    NaN   NaN         NaN       0      5   \n",
       "2         Lvl    AllPub  ...        0    NaN   NaN         NaN       0      9   \n",
       "3         Lvl    AllPub  ...        0    NaN   NaN         NaN       0      2   \n",
       "4         Lvl    AllPub  ...        0    NaN   NaN         NaN       0     12   \n",
       "\n",
       "  YrSold  SaleType  SaleCondition  SalePrice  \n",
       "0   2008        WD         Normal     208500  \n",
       "1   2007        WD         Normal     181500  \n",
       "2   2008        WD         Normal     223500  \n",
       "3   2006        WD        Abnorml     140000  \n",
       "4   2008        WD         Normal     250000  \n",
       "\n",
       "[5 rows x 81 columns]"
      ]
     },
     "execution_count": 3,
     "metadata": {},
     "output_type": "execute_result"
    }
   ],
   "source": [
    "train_data.head()"
   ]
  },
  {
   "cell_type": "code",
   "execution_count": 4,
   "metadata": {
    "execution": {
     "iopub.execute_input": "2020-10-29T15:31:26.511110Z",
     "iopub.status.busy": "2020-10-29T15:31:26.509926Z",
     "iopub.status.idle": "2020-10-29T15:31:26.531106Z",
     "shell.execute_reply": "2020-10-29T15:31:26.531718Z"
    },
    "papermill": {
     "duration": 0.050368,
     "end_time": "2020-10-29T15:31:26.531875",
     "exception": false,
     "start_time": "2020-10-29T15:31:26.481507",
     "status": "completed"
    },
    "tags": []
   },
   "outputs": [
    {
     "data": {
      "text/plain": [
       "<bound method DataFrame.info of         Id  MSSubClass MSZoning  LotFrontage  LotArea Street Alley LotShape  \\\n",
       "0     1461          20       RH         80.0    11622   Pave   NaN      Reg   \n",
       "1     1462          20       RL         81.0    14267   Pave   NaN      IR1   \n",
       "2     1463          60       RL         74.0    13830   Pave   NaN      IR1   \n",
       "3     1464          60       RL         78.0     9978   Pave   NaN      IR1   \n",
       "4     1465         120       RL         43.0     5005   Pave   NaN      IR1   \n",
       "...    ...         ...      ...          ...      ...    ...   ...      ...   \n",
       "1454  2915         160       RM         21.0     1936   Pave   NaN      Reg   \n",
       "1455  2916         160       RM         21.0     1894   Pave   NaN      Reg   \n",
       "1456  2917          20       RL        160.0    20000   Pave   NaN      Reg   \n",
       "1457  2918          85       RL         62.0    10441   Pave   NaN      Reg   \n",
       "1458  2919          60       RL         74.0     9627   Pave   NaN      Reg   \n",
       "\n",
       "     LandContour Utilities  ... ScreenPorch PoolArea PoolQC  Fence  \\\n",
       "0            Lvl    AllPub  ...         120        0    NaN  MnPrv   \n",
       "1            Lvl    AllPub  ...           0        0    NaN    NaN   \n",
       "2            Lvl    AllPub  ...           0        0    NaN  MnPrv   \n",
       "3            Lvl    AllPub  ...           0        0    NaN    NaN   \n",
       "4            HLS    AllPub  ...         144        0    NaN    NaN   \n",
       "...          ...       ...  ...         ...      ...    ...    ...   \n",
       "1454         Lvl    AllPub  ...           0        0    NaN    NaN   \n",
       "1455         Lvl    AllPub  ...           0        0    NaN    NaN   \n",
       "1456         Lvl    AllPub  ...           0        0    NaN    NaN   \n",
       "1457         Lvl    AllPub  ...           0        0    NaN  MnPrv   \n",
       "1458         Lvl    AllPub  ...           0        0    NaN    NaN   \n",
       "\n",
       "     MiscFeature MiscVal MoSold  YrSold  SaleType  SaleCondition  \n",
       "0            NaN       0      6    2010        WD         Normal  \n",
       "1           Gar2   12500      6    2010        WD         Normal  \n",
       "2            NaN       0      3    2010        WD         Normal  \n",
       "3            NaN       0      6    2010        WD         Normal  \n",
       "4            NaN       0      1    2010        WD         Normal  \n",
       "...          ...     ...    ...     ...       ...            ...  \n",
       "1454         NaN       0      6    2006        WD         Normal  \n",
       "1455         NaN       0      4    2006        WD        Abnorml  \n",
       "1456         NaN       0      9    2006        WD        Abnorml  \n",
       "1457        Shed     700      7    2006        WD         Normal  \n",
       "1458         NaN       0     11    2006        WD         Normal  \n",
       "\n",
       "[1459 rows x 80 columns]>"
      ]
     },
     "execution_count": 4,
     "metadata": {},
     "output_type": "execute_result"
    }
   ],
   "source": [
    "test_data.info"
   ]
  },
  {
   "cell_type": "markdown",
   "metadata": {
    "papermill": {
     "duration": 0.01753,
     "end_time": "2020-10-29T15:31:26.567087",
     "exception": false,
     "start_time": "2020-10-29T15:31:26.549557",
     "status": "completed"
    },
    "tags": []
   },
   "source": [
    "# Import Section"
   ]
  },
  {
   "cell_type": "code",
   "execution_count": 5,
   "metadata": {
    "execution": {
     "iopub.execute_input": "2020-10-29T15:31:26.612495Z",
     "iopub.status.busy": "2020-10-29T15:31:26.611507Z",
     "iopub.status.idle": "2020-10-29T15:31:34.420052Z",
     "shell.execute_reply": "2020-10-29T15:31:34.419449Z"
    },
    "papermill": {
     "duration": 7.835259,
     "end_time": "2020-10-29T15:31:34.420208",
     "exception": false,
     "start_time": "2020-10-29T15:31:26.584949",
     "status": "completed"
    },
    "tags": []
   },
   "outputs": [],
   "source": [
    "from sklearn.preprocessing import LabelEncoder\n",
    "import sklearn.preprocessing as skpp\n",
    "import scipy.stats as stats\n",
    "from scipy.special import boxcox1p\n",
    "import matplotlib.pyplot as plt\n",
    "import seaborn as sns\n",
    "import csv\n",
    "import re\n",
    "\n",
    "from keras.models import Sequential\n",
    "from keras.layers import BatchNormalization \n",
    "from keras.layers import Dense, Activation\n",
    "from keras.callbacks import ModelCheckpoint #we can control our model if going well during validation part or not\n",
    "from tensorflow import keras\n",
    "from tensorflow.keras import layers\n",
    "from keras.optimizers import Adam\n",
    "import tensorflow as tf"
   ]
  },
  {
   "cell_type": "code",
   "execution_count": 6,
   "metadata": {
    "_kg_hide-output": true,
    "execution": {
     "iopub.execute_input": "2020-10-29T15:31:34.457651Z",
     "iopub.status.busy": "2020-10-29T15:31:34.456839Z",
     "iopub.status.idle": "2020-10-29T15:31:35.846286Z",
     "shell.execute_reply": "2020-10-29T15:31:35.845623Z"
    },
    "papermill": {
     "duration": 1.410211,
     "end_time": "2020-10-29T15:31:35.846420",
     "exception": false,
     "start_time": "2020-10-29T15:31:34.436209",
     "status": "completed"
    },
    "tags": []
   },
   "outputs": [
    {
     "data": {
      "text/plain": [
       "<matplotlib.axes._subplots.AxesSubplot at 0x7fa90e603490>"
      ]
     },
     "execution_count": 6,
     "metadata": {},
     "output_type": "execute_result"
    },
    {
     "data": {
      "image/png": "[encoded data removed]",
      "text/plain": [
       "<Figure size 1152x504 with 1 Axes>"
      ]
     },
     "metadata": {
      "needs_background": "light"
     },
     "output_type": "display_data"
    }
   ],
   "source": [
    "plt.figure(figsize = (16,7))\n",
    "sns.heatmap(train_data.isnull(),yticklabels=False,cbar=False)"
   ]
  },
  {
   "cell_type": "markdown",
   "metadata": {
    "papermill": {
     "duration": 0.020519,
     "end_time": "2020-10-29T15:31:35.887384",
     "exception": false,
     "start_time": "2020-10-29T15:31:35.866865",
     "status": "completed"
    },
    "tags": []
   },
   "source": [
    "Dropping the features\n",
    "BsmtQual, BsmtCond, BsmtExposure, BsmtFinType1, \n",
    "BsmtFinType2, GarageType, GarageFinish, GarageQual, FireplaceQu, GarageCond -- with \"None\" "
   ]
  },
  {
   "cell_type": "code",
   "execution_count": 7,
   "metadata": {
    "execution": {
     "iopub.execute_input": "2020-10-29T15:31:35.995114Z",
     "iopub.status.busy": "2020-10-29T15:31:35.975783Z",
     "iopub.status.idle": "2020-10-29T15:31:36.524272Z",
     "shell.execute_reply": "2020-10-29T15:31:36.523677Z"
    },
    "papermill": {
     "duration": 0.616519,
     "end_time": "2020-10-29T15:31:36.524428",
     "exception": false,
     "start_time": "2020-10-29T15:31:35.907909",
     "status": "completed"
    },
    "tags": []
   },
   "outputs": [
    {
     "name": "stdout",
     "output_type": "stream",
     "text": [
      "Total Data in Test Set: 1459\n",
      "\n",
      "Missing Values in Test Set:\n",
      "\n",
      "MSZoning:4\n",
      "LotFrontage:227\n",
      "Alley:1352\n",
      "Utilities:2\n",
      "Exterior1st:1\n",
      "Exterior2nd:1\n",
      "MasVnrType:16\n",
      "MasVnrArea:15\n",
      "BsmtQual:44\n",
      "BsmtCond:45\n",
      "BsmtExposure:44\n",
      "BsmtFinType1:42\n",
      "BsmtFinSF1:1\n",
      "BsmtFinType2:42\n",
      "BsmtFinSF2:1\n",
      "BsmtUnfSF:1\n",
      "TotalBsmtSF:1\n",
      "BsmtFullBath:2\n",
      "BsmtHalfBath:2\n",
      "KitchenQual:1\n",
      "Functional:2\n",
      "FireplaceQu:730\n",
      "GarageType:76\n",
      "GarageYrBlt:78\n",
      "GarageFinish:78\n",
      "GarageCars:1\n",
      "GarageArea:1\n",
      "GarageQual:78\n",
      "GarageCond:78\n",
      "PoolQC:1456\n",
      "Fence:1169\n",
      "MiscFeature:1408\n",
      "SaleType:1\n"
     ]
    },
    {
     "data": {
      "image/png": "[encoded data removed]",
      "text/plain": [
       "<Figure size 1080x864 with 1 Axes>"
      ]
     },
     "metadata": {
      "needs_background": "light"
     },
     "output_type": "display_data"
    }
   ],
   "source": [
    "print('Total Data in Test Set:', len(test_data))\n",
    "print('\\nMissing Values in Test Set:\\n')\n",
    "Headings = list(test_data)\n",
    "MSx = []\n",
    "MSy = []\n",
    "for name in Headings:\n",
    "    if (test_data[name].isnull().sum() > 0):\n",
    "        print('%s:%d' % (name,test_data[name].isnull().sum()))\n",
    "        MSx = MSx + [name]\n",
    "        MSy = MSy + [test_data[name].isnull().sum()]\n",
    "\n",
    "df = pd.DataFrame(data={'MSx':MSx, 'MSy':MSy})\n",
    "df = df.sort_values(by=['MSy'], ascending=False)\n",
    "plt.figure(2, figsize=(15,12))\n",
    "sns.barplot(x=df.MSx, y=df.MSy)\n",
    "plt.xticks(rotation='90')\n",
    "plt.title('Missing Values in Test Set', fontsize=15)\n",
    "plt.xlabel('Features', fontsize=15)\n",
    "plt.ylabel('No. of Missing Values', fontsize=15)\n",
    "plt.show()"
   ]
  },
  {
   "cell_type": "code",
   "execution_count": 8,
   "metadata": {
    "execution": {
     "iopub.execute_input": "2020-10-29T15:31:36.591477Z",
     "iopub.status.busy": "2020-10-29T15:31:36.586039Z",
     "iopub.status.idle": "2020-10-29T15:31:36.672400Z",
     "shell.execute_reply": "2020-10-29T15:31:36.673033Z"
    },
    "papermill": {
     "duration": 0.128824,
     "end_time": "2020-10-29T15:31:36.673211",
     "exception": false,
     "start_time": "2020-10-29T15:31:36.544387",
     "status": "completed"
    },
    "tags": []
   },
   "outputs": [
    {
     "name": "stdout",
     "output_type": "stream",
     "text": [
      "\n",
      "No Missing Values found\n"
     ]
    }
   ],
   "source": [
    "NoneCols = ['MiscFeature', 'Fence', 'FireplaceQu', 'GarageType', 'GarageFinish', 'GarageQual', 'GarageCond', 'PoolQC',\n",
    "            'BsmtQual', 'BsmtCond', 'BsmtExposure', 'BsmtFinType1', 'BsmtFinType2', 'MasVnrType', 'MSSubClass', 'Alley']\n",
    "\n",
    "for name in NoneCols:\n",
    "    train_data[name] = train_data[name].fillna('None')\n",
    "    test_data[name] = test_data[name].fillna('None')\n",
    "\n",
    "OCols = ['GarageYrBlt', 'GarageArea', 'GarageCars', 'BsmtFinSF1', 'BsmtFinSF2', 'BsmtUnfSF', 'TotalBsmtSF', 'BsmtFullBath', \n",
    "         'BsmtHalfBath', 'MasVnrArea', 'MasVnrArea']\n",
    "\n",
    "for name in OCols:\n",
    "    train_data[name] = train_data[name].fillna(0)\n",
    "    test_data[name] = test_data[name].fillna(0)   \n",
    "    \n",
    "MCols = ['MSZoning', 'Electrical', 'KitchenQual', 'Exterior1st', 'Exterior2nd', 'SaleType']\n",
    "\n",
    "for name in MCols:\n",
    "    train_data[name] = train_data[name].fillna(train_data[name].mode()[0])\n",
    "    test_data[name] = test_data[name].fillna(test_data[name].mode()[0])\n",
    "\n",
    "train_data['LotFrontage'] = train_data.groupby('Neighborhood')['LotFrontage'].transform(lambda x: x.fillna(x.median()))\n",
    "test_data['LotFrontage'] = test_data.groupby('Neighborhood')['LotFrontage'].transform(lambda x: x.fillna(x.median()))\n",
    "test_data['Functional'] = test_data['Functional'].fillna('Typ')\n",
    "\n",
    "train_data = train_data.drop('Utilities', axis=1)\n",
    "test_data = test_data.drop('Utilities', axis=1)\n",
    "\n",
    "if(train_data.isnull().sum().sum() == 0 and test_data.isnull().sum().sum() == 0):\n",
    "    print('\\nNo Missing Values found')\n",
    "else:\n",
    "    train_data.isnull().sum()\n",
    "    print('\\nMissing Values are still present')"
   ]
  },
  {
   "cell_type": "code",
   "execution_count": 9,
   "metadata": {
    "execution": {
     "iopub.execute_input": "2020-10-29T15:31:36.731700Z",
     "iopub.status.busy": "2020-10-29T15:31:36.730498Z",
     "iopub.status.idle": "2020-10-29T15:31:37.204884Z",
     "shell.execute_reply": "2020-10-29T15:31:37.205756Z"
    },
    "papermill": {
     "duration": 0.511366,
     "end_time": "2020-10-29T15:31:37.205957",
     "exception": false,
     "start_time": "2020-10-29T15:31:36.694591",
     "status": "completed"
    },
    "tags": []
   },
   "outputs": [
    {
     "data": {
      "image/png": "[encoded data removed]",
      "text/plain": [
       "<Figure size 432x288 with 1 Axes>"
      ]
     },
     "metadata": {
      "needs_background": "light"
     },
     "output_type": "display_data"
    },
    {
     "data": {
      "image/png": "[encoded data removed]",
      "text/plain": [
       "<Figure size 432x288 with 1 Axes>"
      ]
     },
     "metadata": {
      "needs_background": "light"
     },
     "output_type": "display_data"
    }
   ],
   "source": [
    "def outlier_detection(train_data):\n",
    "    # Outlier Detection\n",
    "    plt.figure(9)\n",
    "    plt.scatter(x=train_data['GrLivArea'], y=train_data['SalePrice'])\n",
    "    plt.title('Before Outlier Removal', fontsize=15)\n",
    "    plt.xlabel('GrLivArea', fontsize=15)\n",
    "    plt.ylabel('SalePrice', fontsize=15)\n",
    "    plt.show()\n",
    "    plt.savefig('Before_Outlier_Removal.png')\n",
    "    plt.close()\n",
    "    \n",
    "    # Outlier Removal\n",
    "    train_data = train_data.drop(train_data[(train_data['GrLivArea']>4000) & (train_data['SalePrice']<300000)].index)\n",
    "    train_data = train_data.reset_index()\n",
    "    train_data = train_data.drop('index', axis=1)\n",
    "\n",
    "    # Cleaned Data\n",
    "    plt.figure(10)\n",
    "    plt.scatter(x=train_data['GrLivArea'], y=train_data['SalePrice'])\n",
    "    plt.title('After Outlier Removal', fontsize=15)\n",
    "    plt.xlabel('GrLivArea', fontsize=15)\n",
    "    plt.ylabel('SalePrice', fontsize=15)\n",
    "\n",
    "    plt.savefig('After_Outlier_Removal.png')\n",
    "    plt.show()\n",
    "    plt.close()\n",
    "outlier_detection(train_data)"
   ]
  },
  {
   "cell_type": "code",
   "execution_count": 10,
   "metadata": {
    "execution": {
     "iopub.execute_input": "2020-10-29T15:31:37.275245Z",
     "iopub.status.busy": "2020-10-29T15:31:37.269329Z",
     "iopub.status.idle": "2020-10-29T15:31:38.098671Z",
     "shell.execute_reply": "2020-10-29T15:31:38.097077Z"
    },
    "papermill": {
     "duration": 0.861429,
     "end_time": "2020-10-29T15:31:38.098829",
     "exception": false,
     "start_time": "2020-10-29T15:31:37.237400",
     "status": "completed"
    },
    "tags": []
   },
   "outputs": [
    {
     "name": "stdout",
     "output_type": "stream",
     "text": [
      "\n",
      "mu(Mean): 12.024\n",
      "sigma(Standard Deviation): 0.399\n",
      "Mode: 11\n"
     ]
    },
    {
     "data": {
      "image/png": "[encoded data removed]",
      "text/plain": [
       "<Figure size 432x288 with 1 Axes>"
      ]
     },
     "metadata": {
      "needs_background": "light"
     },
     "output_type": "display_data"
    },
    {
     "data": {
      "image/png": "[encoded data removed]",
      "text/plain": [
       "<Figure size 432x288 with 1 Axes>"
      ]
     },
     "metadata": {
      "needs_background": "light"
     },
     "output_type": "display_data"
    },
    {
     "name": "stdout",
     "output_type": "stream",
     "text": [
      "Skewness: 0.12135\n",
      "Kurtosis: 0.80952\n",
      "\n",
      "Z-Score: [ 0.56006699  0.21276333  0.73404616 ...  1.17470887 -0.39965728\n",
      " -0.30669507]\n"
     ]
    }
   ],
   "source": [
    "Y_train = train_data['SalePrice']\n",
    "Id_final = test_data['Id']\n",
    "train_data['SalePrice'] = np.log1p(train_data['SalePrice'])\n",
    "\n",
    "    # New Distribution\n",
    "\n",
    "    # Mean, Standard Deviation and Mode\n",
    "(mu, sigma) = stats.norm.fit(train_data['SalePrice'])\n",
    "mu = round(mu,3)\n",
    "sigma = round(sigma,3)\n",
    "mode = int(train_data['SalePrice'].mode())\n",
    "print('\\nmu(Mean):', mu)\n",
    "print('sigma(Standard Deviation):', sigma)\n",
    "print('Mode:', mode)\n",
    "\n",
    "    # Skewness of Target Variable\n",
    "plt.figure(11)\n",
    "sns.distplot(train_data['SalePrice'] , fit=stats.norm)\n",
    "plt.title('SalePrice Distribution', fontsize=15)\n",
    "plt.ylabel('Frequency', fontsize=15)\n",
    "plt.legend(['Normal Distribution($\\mu=$%.3f, $\\sigma=$%.3f)' % (mu,sigma)], loc='best')\n",
    "plt.show()\n",
    "\n",
    "    # Probability Plot(Similar to Quantile-Quantile Plot)\n",
    "plt.figure(12)\n",
    "stats.probplot(train_data['SalePrice'], plot=plt)\n",
    "plt.show()\n",
    "\n",
    "    # Skewness and Kurtosis\n",
    "print('Skewness: %.5f' % train_data['SalePrice'].skew())\n",
    "print('Kurtosis: %.5f' % train_data['SalePrice'].kurt())\n",
    "\n",
    "    # Z-Score\n",
    "Zscore = stats.zscore(train_data['SalePrice'])\n",
    "print('\\nZ-Score:', Zscore)\n"
   ]
  },
  {
   "cell_type": "code",
   "execution_count": 11,
   "metadata": {
    "execution": {
     "iopub.execute_input": "2020-10-29T15:31:38.187336Z",
     "iopub.status.busy": "2020-10-29T15:31:38.176688Z",
     "iopub.status.idle": "2020-10-29T15:31:38.553996Z",
     "shell.execute_reply": "2020-10-29T15:31:38.553303Z"
    },
    "papermill": {
     "duration": 0.426185,
     "end_time": "2020-10-29T15:31:38.554129",
     "exception": false,
     "start_time": "2020-10-29T15:31:38.127944",
     "status": "completed"
    },
    "tags": []
   },
   "outputs": [
    {
     "name": "stdout",
     "output_type": "stream",
     "text": [
      "\n",
      "Most important features relative to Target:\n",
      "\n",
      "SalePrice        1.000000\n",
      "OverallQual      0.817185\n",
      "GrLivArea        0.700927\n",
      "GarageCars       0.680625\n",
      "GarageArea       0.650888\n",
      "TotalBsmtSF      0.612134\n",
      "1stFlrSF         0.596981\n",
      "FullBath         0.594771\n",
      "YearBuilt        0.586570\n",
      "YearRemodAdd     0.565608\n",
      "TotRmsAbvGrd     0.534422\n",
      "Fireplaces       0.489450\n",
      "MasVnrArea       0.426776\n",
      "BsmtFinSF1       0.372023\n",
      "LotFrontage      0.353288\n",
      "GarageYrBlt      0.349013\n",
      "WoodDeckSF       0.334135\n",
      "OpenPorchSF      0.321053\n",
      "2ndFlrSF         0.319300\n",
      "HalfBath         0.313982\n",
      "LotArea          0.257320\n",
      "BsmtFullBath     0.236224\n",
      "BsmtUnfSF        0.221985\n",
      "BedroomAbvGr     0.209043\n",
      "ScreenPorch      0.121208\n",
      "KitchenAbvGr    -0.147548\n",
      "EnclosedPorch   -0.149050\n",
      "Name: SalePrice, dtype: float64\n",
      "\n",
      "Skewness in Numerical Features(Train): \n",
      "\n",
      "                Skewness\n",
      "MiscVal        24.476794\n",
      "PoolArea       14.828374\n",
      "Condition2     13.171844\n",
      "LotArea        12.207688\n",
      "3SsnPorch      10.304342\n",
      "Heating         9.855100\n",
      "LowQualFinSF    9.011341\n",
      "RoofMatl        8.109402\n",
      "MiscFeature     5.016780\n",
      "LandSlope       4.813682\n",
      "KitchenAbvGr    4.488397\n",
      "BsmtFinSF2      4.255261\n",
      "ScreenPorch     4.122214\n",
      "BsmtHalfBath    4.103403\n",
      "EnclosedPorch   3.089872\n",
      "\n",
      "Skewness in Numerical Features(Test): \n",
      "\n",
      "                Skewness\n",
      "PoolArea       20.196888\n",
      "MiscVal        20.075188\n",
      "LowQualFinSF   16.167254\n",
      "Heating        14.490202\n",
      "3SsnPorch      12.524216\n",
      "RoofMatl       11.942071\n",
      "MiscFeature     5.119551\n",
      "LandSlope       4.968390\n",
      "EnclosedPorch   4.669172\n",
      "KitchenAbvGr    4.079055\n",
      "BsmtFinSF2      4.042954\n",
      "ScreenPorch     3.788244\n",
      "BsmtHalfBath    3.782976\n",
      "LotArea         3.115217\n",
      "Condition1      2.954180\n"
     ]
    }
   ],
   "source": [
    "Train_fe = train_data.copy()\n",
    "Test_fe = test_data.copy()\n",
    "\n",
    "\n",
    "print('\\nMost important features relative to Target:\\n')\n",
    "CMtx = Train_fe.corr()\n",
    "CMtx.sort_values(['SalePrice'], ascending = False, inplace = True)\n",
    "print(CMtx['SalePrice'][abs(CMtx['SalePrice']) >= 0.1])\n",
    "\n",
    "\n",
    "Train_fe['HsAge'] = Train_fe['YrSold'] - Train_fe['YearBuilt']\n",
    "Test_fe['HsAge'] = Test_fe['YrSold'] - Test_fe['YearBuilt']\n",
    "Train_fe['TotalSF'] = Train_fe['TotalBsmtSF'] + Train_fe['1stFlrSF'] + Train_fe['2ndFlrSF']\n",
    "Test_fe['TotalSF'] = Test_fe['TotalBsmtSF'] + Test_fe['1stFlrSF'] + Test_fe['2ndFlrSF']\n",
    "\n",
    "\n",
    "Train_fe['MSSubClass'] = Train_fe['MSSubClass'].apply(str)\n",
    "Test_fe['MSSubClass'] = Test_fe['MSSubClass'].apply(str)\n",
    "Train_fe['OverallCond'] = Train_fe['OverallCond'].astype(str)\n",
    "Test_fe['OverallCond'] = Test_fe['OverallCond'].astype(str)\n",
    "Train_fe['MoSold'] = Train_fe['MoSold'].astype(str)   \n",
    "Test_fe['MoSold'] = Test_fe['MoSold'].astype(str)\n",
    "\n",
    "\n",
    "\n",
    "cols = ('FireplaceQu', 'BsmtQual', 'BsmtCond', 'GarageQual', 'GarageCond', \n",
    "        'ExterQual', 'ExterCond','HeatingQC', 'PoolQC', 'KitchenQual', 'BsmtFinType1', \n",
    "        'BsmtFinType2', 'Functional', 'Fence', 'BsmtExposure', 'GarageFinish', 'LandSlope',\n",
    "        'LotShape', 'PavedDrive', 'Street', 'Alley', 'CentralAir', 'MSSubClass', 'OverallCond', \n",
    "        'YrSold', 'MoSold', 'MSZoning', 'LandContour', 'LotConfig', 'Neighborhood',\n",
    "        'Condition1', 'Condition2', 'BldgType', 'HouseStyle', 'RoofStyle', 'RoofMatl', 'Exterior1st',\n",
    "        'Exterior2nd', 'MasVnrType', 'MasVnrArea', 'Foundation', 'GarageType', 'MiscFeature', \n",
    "        'SaleType', 'SaleCondition', 'Electrical', 'Heating')\n",
    "\n",
    "for c in cols:\n",
    "    lbl = LabelEncoder() \n",
    "    lbl.fit(list(Train_fe[c].values)) \n",
    "    Train_fe[c] = lbl.transform(list(Train_fe[c].values))\n",
    "    \n",
    "    lbl.fit(list(Test_fe[c].values)) \n",
    "    Test_fe[c] = lbl.transform(list(Test_fe[c].values))\n",
    "\n",
    "\n",
    "\n",
    "\"\"\"\n",
    "    for column in OrdCols:\n",
    "     Train\n",
    "    lbl = skpp.LabelEncoder() \n",
    "    lbl.fit(list(Train_fe[column].values))\n",
    "    Train_fe[column] = lbl.transform(list(train_data[column].values))\n",
    "    #encoder=LabelEncoder()\n",
    "    #Train_fe= train_data.apply(lambda col: encoder.fit_transform(col.astype(str)), axis=0, result_type='expand')\n",
    "  \n",
    "    # Test\n",
    "    #lbl = skpp.LabelEncoder() \n",
    "    #lbl.fit(list(Test_fe[column].values))\n",
    "    #Test_fe[column] = lbl.transform(list(Test_fe[column].values))\n",
    "    #encoder=LabelEncoder()\n",
    "    #Test_fe= test_data.apply(lambda col: encoder.fit_transform(col.astype(str)), axis=0, result_type='expand')\n",
    "\"\"\"  \n",
    "    \n",
    "    \n",
    "    \n",
    "NumF = Train_fe.dtypes[Train_fe.dtypes != 'object'].index\n",
    "NumF = NumF.drop('SalePrice')\n",
    "\n",
    "\n",
    "SkewedFtrn = Train_fe[NumF].apply(lambda x: x.skew()).sort_values(ascending=False)\n",
    "print(\"\\nSkewness in Numerical Features(Train): \\n\")\n",
    "df = pd.DataFrame({'Skewness' : SkewedFtrn})\n",
    "print(df.head(15))\n",
    "\n",
    "\n",
    "SkewedFtst = Test_fe[NumF].apply(lambda x: x.skew()).sort_values(ascending=False)\n",
    "print(\"\\nSkewness in Numerical Features(Test): \\n\")\n",
    "df = pd.DataFrame({'Skewness' : SkewedFtst})\n",
    "print(df.head(15))\n",
    "\n",
    "Tolerance = 0.2 \n",
    "BoxF = list(SkewedFtrn[abs(SkewedFtrn) > Tolerance].index) + list(SkewedFtst[abs(SkewedFtst) > Tolerance].index)\n",
    "BoxF = list(set(BoxF))\n",
    "Lam = 0.15  \n",
    "for name in BoxF:\n",
    "    Train_fe[name] = boxcox1p(Train_fe[name], Lam)\n",
    "    Test_fe[name] = boxcox1p(Test_fe[name], Lam)\n",
    "\n",
    "DF = list(CMtx.index[abs(CMtx['SalePrice']) < 0.02])\n",
    "Train_fe.drop(DF, axis=1, inplace=True)\n",
    "Test_fe.drop(DF, axis=1, inplace=True)\n",
    "\n",
    "#Features that have a very low Correlation with the Target Variable were dropped."
   ]
  },
  {
   "cell_type": "code",
   "execution_count": 12,
   "metadata": {
    "execution": {
     "iopub.execute_input": "2020-10-29T15:31:38.626627Z",
     "iopub.status.busy": "2020-10-29T15:31:38.619563Z",
     "iopub.status.idle": "2020-10-29T15:31:38.645650Z",
     "shell.execute_reply": "2020-10-29T15:31:38.645035Z"
    },
    "papermill": {
     "duration": 0.064192,
     "end_time": "2020-10-29T15:31:38.645788",
     "exception": false,
     "start_time": "2020-10-29T15:31:38.581596",
     "status": "completed"
    },
    "tags": []
   },
   "outputs": [
    {
     "name": "stdout",
     "output_type": "stream",
     "text": [
      "\n",
      "Shape of Data:\n",
      "(2919, 78)\n"
     ]
    }
   ],
   "source": [
    "Train_fey = Train_fe['SalePrice']\n",
    "Train_fe = Train_fe.drop('SalePrice', axis=1)\n",
    "dataFE = pd.concat((Train_fe, Test_fe)).reset_index(drop=True)\n",
    "\n",
    "# Column Treatment(One Hot Encoding of Categorical Data)\n",
    "dataFE = pd.get_dummies(dataFE)\n",
    "print('\\nShape of Data:')\n",
    "print(dataFE.shape)\n",
    "\n",
    "\n",
    "#train_set_size = int(.67 * len(X_train))\n",
    "# Data Separation\n",
    "\n",
    "\n",
    "X_train = dataFE[:1460]\n",
    "X_test = dataFE[1460:]\n",
    "X_test = X_test.reset_index().drop('index', axis=1)"
   ]
  },
  {
   "cell_type": "code",
   "execution_count": 13,
   "metadata": {
    "execution": {
     "iopub.execute_input": "2020-10-29T15:31:38.710972Z",
     "iopub.status.busy": "2020-10-29T15:31:38.709916Z",
     "iopub.status.idle": "2020-10-29T15:31:38.740098Z",
     "shell.execute_reply": "2020-10-29T15:31:38.741063Z"
    },
    "papermill": {
     "duration": 0.067428,
     "end_time": "2020-10-29T15:31:38.741317",
     "exception": false,
     "start_time": "2020-10-29T15:31:38.673889",
     "status": "completed"
    },
    "tags": []
   },
   "outputs": [
    {
     "name": "stdout",
     "output_type": "stream",
     "text": [
      "<class 'pandas.core.frame.DataFrame'>\n",
      "RangeIndex: 1459 entries, 0 to 1458\n",
      "Data columns (total 78 columns):\n",
      " #   Column         Non-Null Count  Dtype  \n",
      "---  ------         --------------  -----  \n",
      " 0   MSSubClass     1459 non-null   float64\n",
      " 1   MSZoning       1459 non-null   float64\n",
      " 2   LotFrontage    1459 non-null   float64\n",
      " 3   LotArea        1459 non-null   float64\n",
      " 4   Street         1459 non-null   float64\n",
      " 5   Alley          1459 non-null   float64\n",
      " 6   LotShape       1459 non-null   float64\n",
      " 7   LandContour    1459 non-null   float64\n",
      " 8   LotConfig      1459 non-null   float64\n",
      " 9   LandSlope      1459 non-null   float64\n",
      " 10  Neighborhood   1459 non-null   int64  \n",
      " 11  Condition1     1459 non-null   float64\n",
      " 12  Condition2     1459 non-null   float64\n",
      " 13  BldgType       1459 non-null   float64\n",
      " 14  HouseStyle     1459 non-null   float64\n",
      " 15  OverallQual    1459 non-null   float64\n",
      " 16  OverallCond    1459 non-null   float64\n",
      " 17  YearBuilt      1459 non-null   float64\n",
      " 18  YearRemodAdd   1459 non-null   float64\n",
      " 19  RoofStyle      1459 non-null   float64\n",
      " 20  RoofMatl       1459 non-null   float64\n",
      " 21  Exterior1st    1459 non-null   float64\n",
      " 22  Exterior2nd    1459 non-null   float64\n",
      " 23  MasVnrType     1459 non-null   int64  \n",
      " 24  MasVnrArea     1459 non-null   float64\n",
      " 25  ExterQual      1459 non-null   float64\n",
      " 26  ExterCond      1459 non-null   float64\n",
      " 27  Foundation     1459 non-null   int64  \n",
      " 28  BsmtQual       1459 non-null   float64\n",
      " 29  BsmtCond       1459 non-null   float64\n",
      " 30  BsmtExposure   1459 non-null   float64\n",
      " 31  BsmtFinType1   1459 non-null   int64  \n",
      " 32  BsmtFinSF1     1459 non-null   float64\n",
      " 33  BsmtFinType2   1459 non-null   float64\n",
      " 34  BsmtUnfSF      1459 non-null   float64\n",
      " 35  TotalBsmtSF    1459 non-null   float64\n",
      " 36  Heating        1459 non-null   float64\n",
      " 37  HeatingQC      1459 non-null   float64\n",
      " 38  CentralAir     1459 non-null   float64\n",
      " 39  Electrical     1459 non-null   float64\n",
      " 40  1stFlrSF       1459 non-null   float64\n",
      " 41  2ndFlrSF       1459 non-null   float64\n",
      " 42  LowQualFinSF   1459 non-null   float64\n",
      " 43  GrLivArea      1459 non-null   float64\n",
      " 44  BsmtFullBath   1459 non-null   float64\n",
      " 45  FullBath       1459 non-null   float64\n",
      " 46  HalfBath       1459 non-null   float64\n",
      " 47  BedroomAbvGr   1459 non-null   float64\n",
      " 48  KitchenAbvGr   1459 non-null   float64\n",
      " 49  KitchenQual    1459 non-null   float64\n",
      " 50  TotRmsAbvGrd   1459 non-null   float64\n",
      " 51  Functional     1459 non-null   float64\n",
      " 52  Fireplaces     1459 non-null   float64\n",
      " 53  FireplaceQu    1459 non-null   float64\n",
      " 54  GarageType     1459 non-null   float64\n",
      " 55  GarageYrBlt    1459 non-null   float64\n",
      " 56  GarageFinish   1459 non-null   float64\n",
      " 57  GarageCars     1459 non-null   float64\n",
      " 58  GarageArea     1459 non-null   float64\n",
      " 59  GarageQual     1459 non-null   float64\n",
      " 60  GarageCond     1459 non-null   float64\n",
      " 61  PavedDrive     1459 non-null   float64\n",
      " 62  WoodDeckSF     1459 non-null   float64\n",
      " 63  OpenPorchSF    1459 non-null   float64\n",
      " 64  EnclosedPorch  1459 non-null   float64\n",
      " 65  3SsnPorch      1459 non-null   float64\n",
      " 66  ScreenPorch    1459 non-null   float64\n",
      " 67  PoolArea       1459 non-null   float64\n",
      " 68  PoolQC         1459 non-null   float64\n",
      " 69  Fence          1459 non-null   float64\n",
      " 70  MiscFeature    1459 non-null   float64\n",
      " 71  MiscVal        1459 non-null   float64\n",
      " 72  MoSold         1459 non-null   float64\n",
      " 73  YrSold         1459 non-null   int64  \n",
      " 74  SaleType       1459 non-null   float64\n",
      " 75  SaleCondition  1459 non-null   float64\n",
      " 76  HsAge          1459 non-null   float64\n",
      " 77  TotalSF        1459 non-null   float64\n",
      "dtypes: float64(73), int64(5)\n",
      "memory usage: 889.2 KB\n"
     ]
    }
   ],
   "source": [
    "X_test.info()"
   ]
  },
  {
   "cell_type": "code",
   "execution_count": 14,
   "metadata": {
    "execution": {
     "iopub.execute_input": "2020-10-29T15:31:38.827247Z",
     "iopub.status.busy": "2020-10-29T15:31:38.824214Z",
     "iopub.status.idle": "2020-10-29T15:33:53.787555Z",
     "shell.execute_reply": "2020-10-29T15:33:53.786864Z"
    },
    "papermill": {
     "duration": 135.009498,
     "end_time": "2020-10-29T15:33:53.787702",
     "exception": false,
     "start_time": "2020-10-29T15:31:38.778204",
     "status": "completed"
    },
    "tags": []
   },
   "outputs": [],
   "source": [
    "model = Sequential()\n",
    "\n",
    "model.add(Dense(units=256, activation='linear'))\n",
    "model.add(BatchNormalization())\n",
    "model.add(Dense(units=128, activation='linear'))\n",
    "model.add(BatchNormalization())\n",
    "model.add(Dense(units=64, activation='linear'))\n",
    "model.add(BatchNormalization())\n",
    "model.add(Dense(units=32, activation='linear'))\n",
    "model.add(BatchNormalization())\n",
    "model.add(Dense(units=16, activation='linear'))\n",
    "model.add(BatchNormalization())\n",
    "model.add(Dense(units=8, activation='linear'))\n",
    "model.add(BatchNormalization())\n",
    "model.add(Dense(units=1, activation='linear'))\n",
    "\n",
    "model.compile(loss='mean_squared_logarithmic_error',\n",
    "               optimizer='adam') \n",
    "\n",
    "history_model = model.fit(X_train, Train_fey, validation_split=0.2, epochs=1000, batch_size=64, verbose=0)\n",
    "predict = model.predict(X_test, batch_size=64) \n",
    "\n",
    "pred = np.exp(predict).flatten()\n",
    "pred = pd.DataFrame({'Id':Id_final, 'SalePrice':pred})\n",
    "pred['SalePrice'] = pred['SalePrice'].transform(lambda x: (x-1))\n",
    "\n",
    "pred.to_csv('submission.csv', index=False)"
   ]
  },
  {
   "cell_type": "code",
   "execution_count": 15,
   "metadata": {
    "execution": {
     "iopub.execute_input": "2020-10-29T15:33:53.851604Z",
     "iopub.status.busy": "2020-10-29T15:33:53.850776Z",
     "iopub.status.idle": "2020-10-29T15:33:53.867934Z",
     "shell.execute_reply": "2020-10-29T15:33:53.868600Z"
    },
    "papermill": {
     "duration": 0.051784,
     "end_time": "2020-10-29T15:33:53.868749",
     "exception": false,
     "start_time": "2020-10-29T15:33:53.816965",
     "status": "completed"
    },
    "tags": []
   },
   "outputs": [
    {
     "data": {
      "text/html": [
       "<div>\n",
       "<style scoped>\n",
       "    .dataframe tbody tr th:only-of-type {\n",
       "        vertical-align: middle;\n",
       "    }\n",
       "\n",
       "    .dataframe tbody tr th {\n",
       "        vertical-align: top;\n",
       "    }\n",
       "\n",
       "    .dataframe thead th {\n",
       "        text-align: right;\n",
       "    }\n",
       "</style>\n",
       "<table border=\"1\" class=\"dataframe\">\n",
       "  <thead>\n",
       "    <tr style=\"text-align: right;\">\n",
       "      <th></th>\n",
       "      <th>Id</th>\n",
       "      <th>SalePrice</th>\n",
       "    </tr>\n",
       "  </thead>\n",
       "  <tbody>\n",
       "    <tr>\n",
       "      <th>0</th>\n",
       "      <td>1461</td>\n",
       "      <td>169277.052498</td>\n",
       "    </tr>\n",
       "    <tr>\n",
       "      <th>1</th>\n",
       "      <td>1462</td>\n",
       "      <td>187758.393989</td>\n",
       "    </tr>\n",
       "    <tr>\n",
       "      <th>2</th>\n",
       "      <td>1463</td>\n",
       "      <td>183583.683570</td>\n",
       "    </tr>\n",
       "    <tr>\n",
       "      <th>3</th>\n",
       "      <td>1464</td>\n",
       "      <td>179317.477511</td>\n",
       "    </tr>\n",
       "    <tr>\n",
       "      <th>4</th>\n",
       "      <td>1465</td>\n",
       "      <td>150730.079977</td>\n",
       "    </tr>\n",
       "  </tbody>\n",
       "</table>\n",
       "</div>"
      ],
      "text/plain": [
       "     Id      SalePrice\n",
       "0  1461  169277.052498\n",
       "1  1462  187758.393989\n",
       "2  1463  183583.683570\n",
       "3  1464  179317.477511\n",
       "4  1465  150730.079977"
      ]
     },
     "execution_count": 15,
     "metadata": {},
     "output_type": "execute_result"
    }
   ],
   "source": [
    "sub = pd.read_csv('/kaggle/input/house-prices-advanced-regression-techniques/sample_submission.csv')\n",
    "sub.head()"
   ]
  }
 ],
 "metadata": {
  "kernelspec": {
   "display_name": "Python 3",
   "language": "python",
   "name": "python3"
  },
  "language_info": {
   "codemirror_mode": {
    "name": "ipython",
    "version": 3
   },
   "file_extension": ".py",
   "mimetype": "text/x-python",
   "name": "python",
   "nbconvert_exporter": "python",
   "pygments_lexer": "ipython3",
   "version": "3.7.6"
  },
  "papermill": {
   "duration": 154.010409,
   "end_time": "2020-10-29T15:33:55.258350",
   "environment_variables": {},
   "exception": null,
   "input_path": "__notebook__.ipynb",
   "output_path": "__notebook__.ipynb",
   "parameters": {},
   "start_time": "2020-10-29T15:31:21.247941",
   "version": "2.1.0"
  }
 },
 "nbformat": 4,
 "nbformat_minor": 4
}
